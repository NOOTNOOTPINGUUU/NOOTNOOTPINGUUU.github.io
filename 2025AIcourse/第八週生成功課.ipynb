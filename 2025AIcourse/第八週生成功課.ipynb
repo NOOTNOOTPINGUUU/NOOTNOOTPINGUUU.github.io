{
  "nbformat": 4,
  "nbformat_minor": 0,
  "metadata": {
    "colab": {
      "provenance": [],
      "include_colab_link": true
    },
    "kernelspec": {
      "name": "python3",
      "display_name": "Python 3"
    },
    "language_info": {
      "name": "python"
    }
  },
  "cells": [
    {
      "cell_type": "markdown",
      "metadata": {
        "id": "view-in-github",
        "colab_type": "text"
      },
      "source": [
        "<a href=\"https://colab.research.google.com/github/NOOTNOOTPINGUUU/NOOTNOOTPINGUUU.github.io/blob/main/2025AIcourse/%E7%AC%AC%E5%85%AB%E9%80%B1%E7%94%9F%E6%88%90%E5%8A%9F%E8%AA%B2.ipynb\" target=\"_parent\"><img src=\"https://colab.research.google.com/assets/colab-badge.svg\" alt=\"Open In Colab\"/></a>"
      ]
    },
    {
      "cell_type": "markdown",
      "source": [
        "### 1. 安裝並引入必要套件"
      ],
      "metadata": {
        "id": "Cc-facvpBkIi"
      }
    },
    {
      "cell_type": "code",
      "source": [
        "!pip install -U langchain langchain-community sentence-transformers faiss-cpu gradio openai"
      ],
      "metadata": {
        "colab": {
          "base_uri": "https://localhost:8080/"
        },
        "id": "9JThdfm-CVZZ",
        "outputId": "31656785-22fb-453f-f1e3-5485fa915577"
      },
      "execution_count": null,
      "outputs": [
        {
          "output_type": "stream",
          "name": "stdout",
          "text": [
            "Requirement already satisfied: langchain in /usr/local/lib/python3.11/dist-packages (0.3.23)\n",
            "Collecting langchain-community\n",
            "  Downloading langchain_community-0.3.21-py3-none-any.whl.metadata (2.4 kB)\n",
            "Requirement already satisfied: sentence-transformers in /usr/local/lib/python3.11/dist-packages (3.4.1)\n",
            "Collecting sentence-transformers\n",
            "  Downloading sentence_transformers-4.1.0-py3-none-any.whl.metadata (13 kB)\n",
            "Collecting faiss-cpu\n",
            "  Downloading faiss_cpu-1.10.0-cp311-cp311-manylinux_2_28_x86_64.whl.metadata (4.4 kB)\n",
            "Collecting gradio\n",
            "  Downloading gradio-5.25.2-py3-none-any.whl.metadata (16 kB)\n",
            "Requirement already satisfied: openai in /usr/local/lib/python3.11/dist-packages (1.75.0)\n",
            "Requirement already satisfied: langchain-core<1.0.0,>=0.3.51 in /usr/local/lib/python3.11/dist-packages (from langchain) (0.3.52)\n",
            "Requirement already satisfied: langchain-text-splitters<1.0.0,>=0.3.8 in /usr/local/lib/python3.11/dist-packages (from langchain) (0.3.8)\n",
            "Requirement already satisfied: langsmith<0.4,>=0.1.17 in /usr/local/lib/python3.11/dist-packages (from langchain) (0.3.31)\n",
            "Requirement already satisfied: pydantic<3.0.0,>=2.7.4 in /usr/local/lib/python3.11/dist-packages (from langchain) (2.11.3)\n",
            "Requirement already satisfied: SQLAlchemy<3,>=1.4 in /usr/local/lib/python3.11/dist-packages (from langchain) (2.0.40)\n",
            "Requirement already satisfied: requests<3,>=2 in /usr/local/lib/python3.11/dist-packages (from langchain) (2.32.3)\n",
            "Requirement already satisfied: PyYAML>=5.3 in /usr/local/lib/python3.11/dist-packages (from langchain) (6.0.2)\n",
            "Requirement already satisfied: aiohttp<4.0.0,>=3.8.3 in /usr/local/lib/python3.11/dist-packages (from langchain-community) (3.11.15)\n",
            "Requirement already satisfied: tenacity!=8.4.0,<10,>=8.1.0 in /usr/local/lib/python3.11/dist-packages (from langchain-community) (9.1.2)\n",
            "Collecting dataclasses-json<0.7,>=0.5.7 (from langchain-community)\n",
            "  Downloading dataclasses_json-0.6.7-py3-none-any.whl.metadata (25 kB)\n",
            "Collecting pydantic-settings<3.0.0,>=2.4.0 (from langchain-community)\n",
            "  Downloading pydantic_settings-2.9.1-py3-none-any.whl.metadata (3.8 kB)\n",
            "Collecting httpx-sse<1.0.0,>=0.4.0 (from langchain-community)\n",
            "  Downloading httpx_sse-0.4.0-py3-none-any.whl.metadata (9.0 kB)\n",
            "Requirement already satisfied: numpy<3,>=1.26.2 in /usr/local/lib/python3.11/dist-packages (from langchain-community) (2.0.2)\n",
            "Requirement already satisfied: transformers<5.0.0,>=4.41.0 in /usr/local/lib/python3.11/dist-packages (from sentence-transformers) (4.51.3)\n",
            "Requirement already satisfied: tqdm in /usr/local/lib/python3.11/dist-packages (from sentence-transformers) (4.67.1)\n",
            "Requirement already satisfied: torch>=1.11.0 in /usr/local/lib/python3.11/dist-packages (from sentence-transformers) (2.6.0+cu124)\n",
            "Requirement already satisfied: scikit-learn in /usr/local/lib/python3.11/dist-packages (from sentence-transformers) (1.6.1)\n",
            "Requirement already satisfied: scipy in /usr/local/lib/python3.11/dist-packages (from sentence-transformers) (1.14.1)\n",
            "Requirement already satisfied: huggingface-hub>=0.20.0 in /usr/local/lib/python3.11/dist-packages (from sentence-transformers) (0.30.2)\n",
            "Requirement already satisfied: Pillow in /usr/local/lib/python3.11/dist-packages (from sentence-transformers) (11.1.0)\n",
            "Requirement already satisfied: typing_extensions>=4.5.0 in /usr/local/lib/python3.11/dist-packages (from sentence-transformers) (4.13.2)\n",
            "Requirement already satisfied: packaging in /usr/local/lib/python3.11/dist-packages (from faiss-cpu) (24.2)\n",
            "Collecting aiofiles<25.0,>=22.0 (from gradio)\n",
            "  Downloading aiofiles-24.1.0-py3-none-any.whl.metadata (10 kB)\n",
            "Requirement already satisfied: anyio<5.0,>=3.0 in /usr/local/lib/python3.11/dist-packages (from gradio) (4.9.0)\n",
            "Collecting fastapi<1.0,>=0.115.2 (from gradio)\n",
            "  Downloading fastapi-0.115.12-py3-none-any.whl.metadata (27 kB)\n",
            "Collecting ffmpy (from gradio)\n",
            "  Downloading ffmpy-0.5.0-py3-none-any.whl.metadata (3.0 kB)\n",
            "Collecting gradio-client==1.8.0 (from gradio)\n",
            "  Downloading gradio_client-1.8.0-py3-none-any.whl.metadata (7.1 kB)\n",
            "Collecting groovy~=0.1 (from gradio)\n",
            "  Downloading groovy-0.1.2-py3-none-any.whl.metadata (6.1 kB)\n",
            "Requirement already satisfied: httpx>=0.24.1 in /usr/local/lib/python3.11/dist-packages (from gradio) (0.28.1)\n",
            "Requirement already satisfied: jinja2<4.0 in /usr/local/lib/python3.11/dist-packages (from gradio) (3.1.6)\n",
            "Requirement already satisfied: markupsafe<4.0,>=2.0 in /usr/local/lib/python3.11/dist-packages (from gradio) (3.0.2)\n",
            "Requirement already satisfied: orjson~=3.0 in /usr/local/lib/python3.11/dist-packages (from gradio) (3.10.16)\n",
            "Requirement already satisfied: pandas<3.0,>=1.0 in /usr/local/lib/python3.11/dist-packages (from gradio) (2.2.2)\n",
            "Collecting pydub (from gradio)\n",
            "  Downloading pydub-0.25.1-py2.py3-none-any.whl.metadata (1.4 kB)\n",
            "Collecting python-multipart>=0.0.18 (from gradio)\n",
            "  Downloading python_multipart-0.0.20-py3-none-any.whl.metadata (1.8 kB)\n",
            "Collecting ruff>=0.9.3 (from gradio)\n",
            "  Downloading ruff-0.11.6-py3-none-manylinux_2_17_x86_64.manylinux2014_x86_64.whl.metadata (25 kB)\n",
            "Collecting safehttpx<0.2.0,>=0.1.6 (from gradio)\n",
            "  Downloading safehttpx-0.1.6-py3-none-any.whl.metadata (4.2 kB)\n",
            "Collecting semantic-version~=2.0 (from gradio)\n",
            "  Downloading semantic_version-2.10.0-py2.py3-none-any.whl.metadata (9.7 kB)\n",
            "Collecting starlette<1.0,>=0.40.0 (from gradio)\n",
            "  Downloading starlette-0.46.2-py3-none-any.whl.metadata (6.2 kB)\n",
            "Collecting tomlkit<0.14.0,>=0.12.0 (from gradio)\n",
            "  Downloading tomlkit-0.13.2-py3-none-any.whl.metadata (2.7 kB)\n",
            "Requirement already satisfied: typer<1.0,>=0.12 in /usr/local/lib/python3.11/dist-packages (from gradio) (0.15.2)\n",
            "Collecting uvicorn>=0.14.0 (from gradio)\n",
            "  Downloading uvicorn-0.34.2-py3-none-any.whl.metadata (6.5 kB)\n",
            "Requirement already satisfied: fsspec in /usr/local/lib/python3.11/dist-packages (from gradio-client==1.8.0->gradio) (2025.3.2)\n",
            "Requirement already satisfied: websockets<16.0,>=10.0 in /usr/local/lib/python3.11/dist-packages (from gradio-client==1.8.0->gradio) (15.0.1)\n",
            "Requirement already satisfied: distro<2,>=1.7.0 in /usr/local/lib/python3.11/dist-packages (from openai) (1.9.0)\n",
            "Requirement already satisfied: jiter<1,>=0.4.0 in /usr/local/lib/python3.11/dist-packages (from openai) (0.9.0)\n",
            "Requirement already satisfied: sniffio in /usr/local/lib/python3.11/dist-packages (from openai) (1.3.1)\n",
            "Requirement already satisfied: aiohappyeyeballs>=2.3.0 in /usr/local/lib/python3.11/dist-packages (from aiohttp<4.0.0,>=3.8.3->langchain-community) (2.6.1)\n",
            "Requirement already satisfied: aiosignal>=1.1.2 in /usr/local/lib/python3.11/dist-packages (from aiohttp<4.0.0,>=3.8.3->langchain-community) (1.3.2)\n",
            "Requirement already satisfied: attrs>=17.3.0 in /usr/local/lib/python3.11/dist-packages (from aiohttp<4.0.0,>=3.8.3->langchain-community) (25.3.0)\n",
            "Requirement already satisfied: frozenlist>=1.1.1 in /usr/local/lib/python3.11/dist-packages (from aiohttp<4.0.0,>=3.8.3->langchain-community) (1.5.0)\n",
            "Requirement already satisfied: multidict<7.0,>=4.5 in /usr/local/lib/python3.11/dist-packages (from aiohttp<4.0.0,>=3.8.3->langchain-community) (6.4.3)\n",
            "Requirement already satisfied: propcache>=0.2.0 in /usr/local/lib/python3.11/dist-packages (from aiohttp<4.0.0,>=3.8.3->langchain-community) (0.3.1)\n",
            "Requirement already satisfied: yarl<2.0,>=1.17.0 in /usr/local/lib/python3.11/dist-packages (from aiohttp<4.0.0,>=3.8.3->langchain-community) (1.19.0)\n",
            "Requirement already satisfied: idna>=2.8 in /usr/local/lib/python3.11/dist-packages (from anyio<5.0,>=3.0->gradio) (3.10)\n",
            "Collecting marshmallow<4.0.0,>=3.18.0 (from dataclasses-json<0.7,>=0.5.7->langchain-community)\n",
            "  Downloading marshmallow-3.26.1-py3-none-any.whl.metadata (7.3 kB)\n",
            "Collecting typing-inspect<1,>=0.4.0 (from dataclasses-json<0.7,>=0.5.7->langchain-community)\n",
            "  Downloading typing_inspect-0.9.0-py3-none-any.whl.metadata (1.5 kB)\n",
            "Requirement already satisfied: certifi in /usr/local/lib/python3.11/dist-packages (from httpx>=0.24.1->gradio) (2025.1.31)\n",
            "Requirement already satisfied: httpcore==1.* in /usr/local/lib/python3.11/dist-packages (from httpx>=0.24.1->gradio) (1.0.8)\n",
            "Requirement already satisfied: h11<0.15,>=0.13 in /usr/local/lib/python3.11/dist-packages (from httpcore==1.*->httpx>=0.24.1->gradio) (0.14.0)\n",
            "Requirement already satisfied: filelock in /usr/local/lib/python3.11/dist-packages (from huggingface-hub>=0.20.0->sentence-transformers) (3.18.0)\n",
            "Requirement already satisfied: jsonpatch<2.0,>=1.33 in /usr/local/lib/python3.11/dist-packages (from langchain-core<1.0.0,>=0.3.51->langchain) (1.33)\n",
            "Requirement already satisfied: requests-toolbelt<2.0.0,>=1.0.0 in /usr/local/lib/python3.11/dist-packages (from langsmith<0.4,>=0.1.17->langchain) (1.0.0)\n",
            "Requirement already satisfied: zstandard<0.24.0,>=0.23.0 in /usr/local/lib/python3.11/dist-packages (from langsmith<0.4,>=0.1.17->langchain) (0.23.0)\n",
            "Requirement already satisfied: python-dateutil>=2.8.2 in /usr/local/lib/python3.11/dist-packages (from pandas<3.0,>=1.0->gradio) (2.8.2)\n",
            "Requirement already satisfied: pytz>=2020.1 in /usr/local/lib/python3.11/dist-packages (from pandas<3.0,>=1.0->gradio) (2025.2)\n",
            "Requirement already satisfied: tzdata>=2022.7 in /usr/local/lib/python3.11/dist-packages (from pandas<3.0,>=1.0->gradio) (2025.2)\n",
            "Requirement already satisfied: annotated-types>=0.6.0 in /usr/local/lib/python3.11/dist-packages (from pydantic<3.0.0,>=2.7.4->langchain) (0.7.0)\n",
            "Requirement already satisfied: pydantic-core==2.33.1 in /usr/local/lib/python3.11/dist-packages (from pydantic<3.0.0,>=2.7.4->langchain) (2.33.1)\n",
            "Requirement already satisfied: typing-inspection>=0.4.0 in /usr/local/lib/python3.11/dist-packages (from pydantic<3.0.0,>=2.7.4->langchain) (0.4.0)\n",
            "Collecting python-dotenv>=0.21.0 (from pydantic-settings<3.0.0,>=2.4.0->langchain-community)\n",
            "  Downloading python_dotenv-1.1.0-py3-none-any.whl.metadata (24 kB)\n",
            "Requirement already satisfied: charset-normalizer<4,>=2 in /usr/local/lib/python3.11/dist-packages (from requests<3,>=2->langchain) (3.4.1)\n",
            "Requirement already satisfied: urllib3<3,>=1.21.1 in /usr/local/lib/python3.11/dist-packages (from requests<3,>=2->langchain) (2.3.0)\n",
            "Requirement already satisfied: greenlet>=1 in /usr/local/lib/python3.11/dist-packages (from SQLAlchemy<3,>=1.4->langchain) (3.2.0)\n",
            "Requirement already satisfied: networkx in /usr/local/lib/python3.11/dist-packages (from torch>=1.11.0->sentence-transformers) (3.4.2)\n",
            "Collecting nvidia-cuda-nvrtc-cu12==12.4.127 (from torch>=1.11.0->sentence-transformers)\n",
            "  Downloading nvidia_cuda_nvrtc_cu12-12.4.127-py3-none-manylinux2014_x86_64.whl.metadata (1.5 kB)\n",
            "Collecting nvidia-cuda-runtime-cu12==12.4.127 (from torch>=1.11.0->sentence-transformers)\n",
            "  Downloading nvidia_cuda_runtime_cu12-12.4.127-py3-none-manylinux2014_x86_64.whl.metadata (1.5 kB)\n",
            "Collecting nvidia-cuda-cupti-cu12==12.4.127 (from torch>=1.11.0->sentence-transformers)\n",
            "  Downloading nvidia_cuda_cupti_cu12-12.4.127-py3-none-manylinux2014_x86_64.whl.metadata (1.6 kB)\n",
            "Collecting nvidia-cudnn-cu12==9.1.0.70 (from torch>=1.11.0->sentence-transformers)\n",
            "  Downloading nvidia_cudnn_cu12-9.1.0.70-py3-none-manylinux2014_x86_64.whl.metadata (1.6 kB)\n",
            "Collecting nvidia-cublas-cu12==12.4.5.8 (from torch>=1.11.0->sentence-transformers)\n",
            "  Downloading nvidia_cublas_cu12-12.4.5.8-py3-none-manylinux2014_x86_64.whl.metadata (1.5 kB)\n",
            "Collecting nvidia-cufft-cu12==11.2.1.3 (from torch>=1.11.0->sentence-transformers)\n",
            "  Downloading nvidia_cufft_cu12-11.2.1.3-py3-none-manylinux2014_x86_64.whl.metadata (1.5 kB)\n",
            "Collecting nvidia-curand-cu12==10.3.5.147 (from torch>=1.11.0->sentence-transformers)\n",
            "  Downloading nvidia_curand_cu12-10.3.5.147-py3-none-manylinux2014_x86_64.whl.metadata (1.5 kB)\n",
            "Collecting nvidia-cusolver-cu12==11.6.1.9 (from torch>=1.11.0->sentence-transformers)\n",
            "  Downloading nvidia_cusolver_cu12-11.6.1.9-py3-none-manylinux2014_x86_64.whl.metadata (1.6 kB)\n",
            "Collecting nvidia-cusparse-cu12==12.3.1.170 (from torch>=1.11.0->sentence-transformers)\n",
            "  Downloading nvidia_cusparse_cu12-12.3.1.170-py3-none-manylinux2014_x86_64.whl.metadata (1.6 kB)\n",
            "Requirement already satisfied: nvidia-cusparselt-cu12==0.6.2 in /usr/local/lib/python3.11/dist-packages (from torch>=1.11.0->sentence-transformers) (0.6.2)\n",
            "Requirement already satisfied: nvidia-nccl-cu12==2.21.5 in /usr/local/lib/python3.11/dist-packages (from torch>=1.11.0->sentence-transformers) (2.21.5)\n",
            "Requirement already satisfied: nvidia-nvtx-cu12==12.4.127 in /usr/local/lib/python3.11/dist-packages (from torch>=1.11.0->sentence-transformers) (12.4.127)\n",
            "Collecting nvidia-nvjitlink-cu12==12.4.127 (from torch>=1.11.0->sentence-transformers)\n",
            "  Downloading nvidia_nvjitlink_cu12-12.4.127-py3-none-manylinux2014_x86_64.whl.metadata (1.5 kB)\n",
            "Requirement already satisfied: triton==3.2.0 in /usr/local/lib/python3.11/dist-packages (from torch>=1.11.0->sentence-transformers) (3.2.0)\n",
            "Requirement already satisfied: sympy==1.13.1 in /usr/local/lib/python3.11/dist-packages (from torch>=1.11.0->sentence-transformers) (1.13.1)\n",
            "Requirement already satisfied: mpmath<1.4,>=1.1.0 in /usr/local/lib/python3.11/dist-packages (from sympy==1.13.1->torch>=1.11.0->sentence-transformers) (1.3.0)\n",
            "Requirement already satisfied: regex!=2019.12.17 in /usr/local/lib/python3.11/dist-packages (from transformers<5.0.0,>=4.41.0->sentence-transformers) (2024.11.6)\n",
            "Requirement already satisfied: tokenizers<0.22,>=0.21 in /usr/local/lib/python3.11/dist-packages (from transformers<5.0.0,>=4.41.0->sentence-transformers) (0.21.1)\n",
            "Requirement already satisfied: safetensors>=0.4.3 in /usr/local/lib/python3.11/dist-packages (from transformers<5.0.0,>=4.41.0->sentence-transformers) (0.5.3)\n",
            "Requirement already satisfied: click>=8.0.0 in /usr/local/lib/python3.11/dist-packages (from typer<1.0,>=0.12->gradio) (8.1.8)\n",
            "Requirement already satisfied: shellingham>=1.3.0 in /usr/local/lib/python3.11/dist-packages (from typer<1.0,>=0.12->gradio) (1.5.4)\n",
            "Requirement already satisfied: rich>=10.11.0 in /usr/local/lib/python3.11/dist-packages (from typer<1.0,>=0.12->gradio) (13.9.4)\n",
            "Requirement already satisfied: joblib>=1.2.0 in /usr/local/lib/python3.11/dist-packages (from scikit-learn->sentence-transformers) (1.4.2)\n",
            "Requirement already satisfied: threadpoolctl>=3.1.0 in /usr/local/lib/python3.11/dist-packages (from scikit-learn->sentence-transformers) (3.6.0)\n",
            "Requirement already satisfied: jsonpointer>=1.9 in /usr/local/lib/python3.11/dist-packages (from jsonpatch<2.0,>=1.33->langchain-core<1.0.0,>=0.3.51->langchain) (3.0.0)\n",
            "Requirement already satisfied: six>=1.5 in /usr/local/lib/python3.11/dist-packages (from python-dateutil>=2.8.2->pandas<3.0,>=1.0->gradio) (1.17.0)\n",
            "Requirement already satisfied: markdown-it-py>=2.2.0 in /usr/local/lib/python3.11/dist-packages (from rich>=10.11.0->typer<1.0,>=0.12->gradio) (3.0.0)\n",
            "Requirement already satisfied: pygments<3.0.0,>=2.13.0 in /usr/local/lib/python3.11/dist-packages (from rich>=10.11.0->typer<1.0,>=0.12->gradio) (2.18.0)\n",
            "Collecting mypy-extensions>=0.3.0 (from typing-inspect<1,>=0.4.0->dataclasses-json<0.7,>=0.5.7->langchain-community)\n",
            "  Downloading mypy_extensions-1.0.0-py3-none-any.whl.metadata (1.1 kB)\n",
            "Requirement already satisfied: mdurl~=0.1 in /usr/local/lib/python3.11/dist-packages (from markdown-it-py>=2.2.0->rich>=10.11.0->typer<1.0,>=0.12->gradio) (0.1.2)\n",
            "Downloading langchain_community-0.3.21-py3-none-any.whl (2.5 MB)\n",
            "\u001b[2K   \u001b[90m━━━━━━━━━━━━━━━━━━━━━━━━━━━━━━━━━━━━━━━━\u001b[0m \u001b[32m2.5/2.5 MB\u001b[0m \u001b[31m36.5 MB/s\u001b[0m eta \u001b[36m0:00:00\u001b[0m\n",
            "\u001b[?25hDownloading sentence_transformers-4.1.0-py3-none-any.whl (345 kB)\n",
            "\u001b[2K   \u001b[90m━━━━━━━━━━━━━━━━━━━━━━━━━━━━━━━━━━━━━━━━\u001b[0m \u001b[32m345.7/345.7 kB\u001b[0m \u001b[31m17.7 MB/s\u001b[0m eta \u001b[36m0:00:00\u001b[0m\n",
            "\u001b[?25hDownloading faiss_cpu-1.10.0-cp311-cp311-manylinux_2_28_x86_64.whl (30.7 MB)\n",
            "\u001b[2K   \u001b[90m━━━━━━━━━━━━━━━━━━━━━━━━━━━━━━━━━━━━━━━━\u001b[0m \u001b[32m30.7/30.7 MB\u001b[0m \u001b[31m41.2 MB/s\u001b[0m eta \u001b[36m0:00:00\u001b[0m\n",
            "\u001b[?25hDownloading gradio-5.25.2-py3-none-any.whl (46.9 MB)\n",
            "\u001b[2K   \u001b[90m━━━━━━━━━━━━━━━━━━━━━━━━━━━━━━━━━━━━━━━━\u001b[0m \u001b[32m46.9/46.9 MB\u001b[0m \u001b[31m18.0 MB/s\u001b[0m eta \u001b[36m0:00:00\u001b[0m\n",
            "\u001b[?25hDownloading gradio_client-1.8.0-py3-none-any.whl (322 kB)\n",
            "\u001b[2K   \u001b[90m━━━━━━━━━━━━━━━━━━━━━━━━━━━━━━━━━━━━━━━━\u001b[0m \u001b[32m322.2/322.2 kB\u001b[0m \u001b[31m15.4 MB/s\u001b[0m eta \u001b[36m0:00:00\u001b[0m\n",
            "\u001b[?25hDownloading aiofiles-24.1.0-py3-none-any.whl (15 kB)\n",
            "Downloading dataclasses_json-0.6.7-py3-none-any.whl (28 kB)\n",
            "Downloading fastapi-0.115.12-py3-none-any.whl (95 kB)\n",
            "\u001b[2K   \u001b[90m━━━━━━━━━━━━━━━━━━━━━━━━━━━━━━━━━━━━━━━━\u001b[0m \u001b[32m95.2/95.2 kB\u001b[0m \u001b[31m8.0 MB/s\u001b[0m eta \u001b[36m0:00:00\u001b[0m\n",
            "\u001b[?25hDownloading groovy-0.1.2-py3-none-any.whl (14 kB)\n",
            "Downloading httpx_sse-0.4.0-py3-none-any.whl (7.8 kB)\n",
            "Downloading pydantic_settings-2.9.1-py3-none-any.whl (44 kB)\n",
            "\u001b[2K   \u001b[90m━━━━━━━━━━━━━━━━━━━━━━━━━━━━━━━━━━━━━━━━\u001b[0m \u001b[32m44.4/44.4 kB\u001b[0m \u001b[31m3.2 MB/s\u001b[0m eta \u001b[36m0:00:00\u001b[0m\n",
            "\u001b[?25hDownloading python_multipart-0.0.20-py3-none-any.whl (24 kB)\n",
            "Downloading ruff-0.11.6-py3-none-manylinux_2_17_x86_64.manylinux2014_x86_64.whl (11.5 MB)\n",
            "\u001b[2K   \u001b[90m━━━━━━━━━━━━━━━━━━━━━━━━━━━━━━━━━━━━━━━━\u001b[0m \u001b[32m11.5/11.5 MB\u001b[0m \u001b[31m48.5 MB/s\u001b[0m eta \u001b[36m0:00:00\u001b[0m\n",
            "\u001b[?25hDownloading safehttpx-0.1.6-py3-none-any.whl (8.7 kB)\n",
            "Downloading semantic_version-2.10.0-py2.py3-none-any.whl (15 kB)\n",
            "Downloading starlette-0.46.2-py3-none-any.whl (72 kB)\n",
            "\u001b[2K   \u001b[90m━━━━━━━━━━━━━━━━━━━━━━━━━━━━━━━━━━━━━━━━\u001b[0m \u001b[32m72.0/72.0 kB\u001b[0m \u001b[31m4.5 MB/s\u001b[0m eta \u001b[36m0:00:00\u001b[0m\n",
            "\u001b[?25hDownloading tomlkit-0.13.2-py3-none-any.whl (37 kB)\n",
            "Downloading nvidia_cublas_cu12-12.4.5.8-py3-none-manylinux2014_x86_64.whl (363.4 MB)\n",
            "\u001b[2K   \u001b[90m━━━━━━━━━━━━━━━━━━━━━━━━━━━━━━━━━━━━━━━━\u001b[0m \u001b[32m363.4/363.4 MB\u001b[0m \u001b[31m4.8 MB/s\u001b[0m eta \u001b[36m0:00:00\u001b[0m\n",
            "\u001b[?25hDownloading nvidia_cuda_cupti_cu12-12.4.127-py3-none-manylinux2014_x86_64.whl (13.8 MB)\n",
            "\u001b[2K   \u001b[90m━━━━━━━━━━━━━━━━━━━━━━━━━━━━━━━━━━━━━━━━\u001b[0m \u001b[32m13.8/13.8 MB\u001b[0m \u001b[31m44.8 MB/s\u001b[0m eta \u001b[36m0:00:00\u001b[0m\n",
            "\u001b[?25hDownloading nvidia_cuda_nvrtc_cu12-12.4.127-py3-none-manylinux2014_x86_64.whl (24.6 MB)\n",
            "\u001b[2K   \u001b[90m━━━━━━━━━━━━━━━━━━━━━━━━━━━━━━━━━━━━━━━━\u001b[0m \u001b[32m24.6/24.6 MB\u001b[0m \u001b[31m25.5 MB/s\u001b[0m eta \u001b[36m0:00:00\u001b[0m\n",
            "\u001b[?25hDownloading nvidia_cuda_runtime_cu12-12.4.127-py3-none-manylinux2014_x86_64.whl (883 kB)\n",
            "\u001b[2K   \u001b[90m━━━━━━━━━━━━━━━━━━━━━━━━━━━━━━━━━━━━━━━━\u001b[0m \u001b[32m883.7/883.7 kB\u001b[0m \u001b[31m31.2 MB/s\u001b[0m eta \u001b[36m0:00:00\u001b[0m\n",
            "\u001b[?25hDownloading nvidia_cudnn_cu12-9.1.0.70-py3-none-manylinux2014_x86_64.whl (664.8 MB)\n",
            "\u001b[2K   \u001b[90m━━━━━━━━━━━━━━━━━━━━━━━━━━━━━━━━━━━━━━━━\u001b[0m \u001b[32m664.8/664.8 MB\u001b[0m \u001b[31m3.0 MB/s\u001b[0m eta \u001b[36m0:00:00\u001b[0m\n",
            "\u001b[?25hDownloading nvidia_cufft_cu12-11.2.1.3-py3-none-manylinux2014_x86_64.whl (211.5 MB)\n",
            "\u001b[2K   \u001b[90m━━━━━━━━━━━━━━━━━━━━━━━━━━━━━━━━━━━━━━━━\u001b[0m \u001b[32m211.5/211.5 MB\u001b[0m \u001b[31m5.9 MB/s\u001b[0m eta \u001b[36m0:00:00\u001b[0m\n",
            "\u001b[?25hDownloading nvidia_curand_cu12-10.3.5.147-py3-none-manylinux2014_x86_64.whl (56.3 MB)\n",
            "\u001b[2K   \u001b[90m━━━━━━━━━━━━━━━━━━━━━━━━━━━━━━━━━━━━━━━━\u001b[0m \u001b[32m56.3/56.3 MB\u001b[0m \u001b[31m12.3 MB/s\u001b[0m eta \u001b[36m0:00:00\u001b[0m\n",
            "\u001b[?25hDownloading nvidia_cusolver_cu12-11.6.1.9-py3-none-manylinux2014_x86_64.whl (127.9 MB)\n",
            "\u001b[2K   \u001b[90m━━━━━━━━━━━━━━━━━━━━━━━━━━━━━━━━━━━━━━━━\u001b[0m \u001b[32m127.9/127.9 MB\u001b[0m \u001b[31m7.5 MB/s\u001b[0m eta \u001b[36m0:00:00\u001b[0m\n",
            "\u001b[?25hDownloading nvidia_cusparse_cu12-12.3.1.170-py3-none-manylinux2014_x86_64.whl (207.5 MB)\n",
            "\u001b[2K   \u001b[90m━━━━━━━━━━━━━━━━━━━━━━━━━━━━━━━━━━━━━━━━\u001b[0m \u001b[32m207.5/207.5 MB\u001b[0m \u001b[31m5.9 MB/s\u001b[0m eta \u001b[36m0:00:00\u001b[0m\n",
            "\u001b[?25hDownloading nvidia_nvjitlink_cu12-12.4.127-py3-none-manylinux2014_x86_64.whl (21.1 MB)\n",
            "\u001b[2K   \u001b[90m━━━━━━━━━━━━━━━━━━━━━━━━━━━━━━━━━━━━━━━━\u001b[0m \u001b[32m21.1/21.1 MB\u001b[0m \u001b[31m62.3 MB/s\u001b[0m eta \u001b[36m0:00:00\u001b[0m\n",
            "\u001b[?25hDownloading uvicorn-0.34.2-py3-none-any.whl (62 kB)\n",
            "\u001b[2K   \u001b[90m━━━━━━━━━━━━━━━━━━━━━━━━━━━━━━━━━━━━━━━━\u001b[0m \u001b[32m62.5/62.5 kB\u001b[0m \u001b[31m5.3 MB/s\u001b[0m eta \u001b[36m0:00:00\u001b[0m\n",
            "\u001b[?25hDownloading ffmpy-0.5.0-py3-none-any.whl (6.0 kB)\n",
            "Downloading pydub-0.25.1-py2.py3-none-any.whl (32 kB)\n",
            "Downloading marshmallow-3.26.1-py3-none-any.whl (50 kB)\n",
            "\u001b[2K   \u001b[90m━━━━━━━━━━━━━━━━━━━━━━━━━━━━━━━━━━━━━━━━\u001b[0m \u001b[32m50.9/50.9 kB\u001b[0m \u001b[31m4.6 MB/s\u001b[0m eta \u001b[36m0:00:00\u001b[0m\n",
            "\u001b[?25hDownloading python_dotenv-1.1.0-py3-none-any.whl (20 kB)\n",
            "Downloading typing_inspect-0.9.0-py3-none-any.whl (8.8 kB)\n",
            "Downloading mypy_extensions-1.0.0-py3-none-any.whl (4.7 kB)\n",
            "Installing collected packages: pydub, uvicorn, tomlkit, semantic-version, ruff, python-multipart, python-dotenv, nvidia-nvjitlink-cu12, nvidia-curand-cu12, nvidia-cufft-cu12, nvidia-cuda-runtime-cu12, nvidia-cuda-nvrtc-cu12, nvidia-cuda-cupti-cu12, nvidia-cublas-cu12, mypy-extensions, marshmallow, httpx-sse, groovy, ffmpy, faiss-cpu, aiofiles, typing-inspect, starlette, nvidia-cusparse-cu12, nvidia-cudnn-cu12, safehttpx, pydantic-settings, nvidia-cusolver-cu12, gradio-client, fastapi, dataclasses-json, gradio, sentence-transformers, langchain-community\n",
            "  Attempting uninstall: nvidia-nvjitlink-cu12\n",
            "    Found existing installation: nvidia-nvjitlink-cu12 12.5.82\n",
            "    Uninstalling nvidia-nvjitlink-cu12-12.5.82:\n",
            "      Successfully uninstalled nvidia-nvjitlink-cu12-12.5.82\n",
            "  Attempting uninstall: nvidia-curand-cu12\n",
            "    Found existing installation: nvidia-curand-cu12 10.3.6.82\n",
            "    Uninstalling nvidia-curand-cu12-10.3.6.82:\n",
            "      Successfully uninstalled nvidia-curand-cu12-10.3.6.82\n",
            "  Attempting uninstall: nvidia-cufft-cu12\n",
            "    Found existing installation: nvidia-cufft-cu12 11.2.3.61\n",
            "    Uninstalling nvidia-cufft-cu12-11.2.3.61:\n",
            "      Successfully uninstalled nvidia-cufft-cu12-11.2.3.61\n",
            "  Attempting uninstall: nvidia-cuda-runtime-cu12\n",
            "    Found existing installation: nvidia-cuda-runtime-cu12 12.5.82\n",
            "    Uninstalling nvidia-cuda-runtime-cu12-12.5.82:\n",
            "      Successfully uninstalled nvidia-cuda-runtime-cu12-12.5.82\n",
            "  Attempting uninstall: nvidia-cuda-nvrtc-cu12\n",
            "    Found existing installation: nvidia-cuda-nvrtc-cu12 12.5.82\n",
            "    Uninstalling nvidia-cuda-nvrtc-cu12-12.5.82:\n",
            "      Successfully uninstalled nvidia-cuda-nvrtc-cu12-12.5.82\n",
            "  Attempting uninstall: nvidia-cuda-cupti-cu12\n",
            "    Found existing installation: nvidia-cuda-cupti-cu12 12.5.82\n",
            "    Uninstalling nvidia-cuda-cupti-cu12-12.5.82:\n",
            "      Successfully uninstalled nvidia-cuda-cupti-cu12-12.5.82\n",
            "  Attempting uninstall: nvidia-cublas-cu12\n",
            "    Found existing installation: nvidia-cublas-cu12 12.5.3.2\n",
            "    Uninstalling nvidia-cublas-cu12-12.5.3.2:\n",
            "      Successfully uninstalled nvidia-cublas-cu12-12.5.3.2\n",
            "  Attempting uninstall: nvidia-cusparse-cu12\n",
            "    Found existing installation: nvidia-cusparse-cu12 12.5.1.3\n",
            "    Uninstalling nvidia-cusparse-cu12-12.5.1.3:\n",
            "      Successfully uninstalled nvidia-cusparse-cu12-12.5.1.3\n",
            "  Attempting uninstall: nvidia-cudnn-cu12\n",
            "    Found existing installation: nvidia-cudnn-cu12 9.3.0.75\n",
            "    Uninstalling nvidia-cudnn-cu12-9.3.0.75:\n",
            "      Successfully uninstalled nvidia-cudnn-cu12-9.3.0.75\n",
            "  Attempting uninstall: nvidia-cusolver-cu12\n",
            "    Found existing installation: nvidia-cusolver-cu12 11.6.3.83\n",
            "    Uninstalling nvidia-cusolver-cu12-11.6.3.83:\n",
            "      Successfully uninstalled nvidia-cusolver-cu12-11.6.3.83\n",
            "  Attempting uninstall: sentence-transformers\n",
            "    Found existing installation: sentence-transformers 3.4.1\n",
            "    Uninstalling sentence-transformers-3.4.1:\n",
            "      Successfully uninstalled sentence-transformers-3.4.1\n",
            "Successfully installed aiofiles-24.1.0 dataclasses-json-0.6.7 faiss-cpu-1.10.0 fastapi-0.115.12 ffmpy-0.5.0 gradio-5.25.2 gradio-client-1.8.0 groovy-0.1.2 httpx-sse-0.4.0 langchain-community-0.3.21 marshmallow-3.26.1 mypy-extensions-1.0.0 nvidia-cublas-cu12-12.4.5.8 nvidia-cuda-cupti-cu12-12.4.127 nvidia-cuda-nvrtc-cu12-12.4.127 nvidia-cuda-runtime-cu12-12.4.127 nvidia-cudnn-cu12-9.1.0.70 nvidia-cufft-cu12-11.2.1.3 nvidia-curand-cu12-10.3.5.147 nvidia-cusolver-cu12-11.6.1.9 nvidia-cusparse-cu12-12.3.1.170 nvidia-nvjitlink-cu12-12.4.127 pydantic-settings-2.9.1 pydub-0.25.1 python-dotenv-1.1.0 python-multipart-0.0.20 ruff-0.11.6 safehttpx-0.1.6 semantic-version-2.10.0 sentence-transformers-4.1.0 starlette-0.46.2 tomlkit-0.13.2 typing-inspect-0.9.0 uvicorn-0.34.2\n"
          ]
        }
      ]
    },
    {
      "cell_type": "code",
      "source": [
        "%matplotlib inline\n",
        "import numpy as np\n",
        "import pandas as pd\n",
        "import matplotlib.pyplot as plt\n",
        "\n",
        "import gdown\n",
        "\n",
        "from langchain_community.vectorstores import FAISS\n",
        "from langchain_community.embeddings import HuggingFaceEmbeddings\n",
        "from langchain.chat_models import ChatOpenAI\n",
        "from langchain.chains import ConversationalRetrievalChain"
      ],
      "metadata": {
        "id": "L1zqb7F8BMP3"
      },
      "execution_count": null,
      "outputs": []
    },
    {
      "cell_type": "code",
      "source": [
        "from openai import OpenAI\n",
        "import gradio as gr"
      ],
      "metadata": {
        "id": "PTx3Q75QBp_J"
      },
      "execution_count": null,
      "outputs": []
    },
    {
      "cell_type": "code",
      "source": [
        "!gdown --folder 'https://drive.google.com/drive/folders/1HC_XVFDa6WVb9en6fpx0z3NrSQHuOa_X?usp=share_link'"
      ],
      "metadata": {
        "colab": {
          "base_uri": "https://localhost:8080/"
        },
        "id": "ewgYPxNiG6V-",
        "outputId": "cb69deed-b750-47da-90de-7c39a72beccd"
      },
      "execution_count": null,
      "outputs": [
        {
          "output_type": "stream",
          "name": "stdout",
          "text": [
            "Retrieving folder contents\n",
            "Processing file 170RcPHN1flEbcyBEWRd4IxL9V1vSpvek index.faiss\n",
            "Processing file 1GBfH01BCUZ3z4Wj9Y6lgc9HauCwehkkT index.pkl\n",
            "Retrieving folder contents completed\n",
            "Building directory structure\n",
            "Building directory structure completed\n",
            "Downloading...\n",
            "From: https://drive.google.com/uc?id=170RcPHN1flEbcyBEWRd4IxL9V1vSpvek\n",
            "To: /content/faiss_db/index.faiss\n",
            "100% 40.0k/40.0k [00:00<00:00, 70.5MB/s]\n",
            "Downloading...\n",
            "From: https://drive.google.com/uc?id=1GBfH01BCUZ3z4Wj9Y6lgc9HauCwehkkT\n",
            "To: /content/faiss_db/index.pkl\n",
            "100% 32.1k/32.1k [00:00<00:00, 76.7MB/s]\n",
            "Download completed\n"
          ]
        }
      ]
    },
    {
      "cell_type": "markdown",
      "source": [
        "### 2. 自訂 E5 embedding 類別"
      ],
      "metadata": {
        "id": "z13eoo6uCnTT"
      }
    },
    {
      "cell_type": "code",
      "source": [
        "class CustomE5Embedding(HuggingFaceEmbeddings):\n",
        "    def embed_documents(self, texts):\n",
        "        texts = [f\"passage: {t}\" for t in texts]\n",
        "        return super().embed_documents(texts)\n",
        "\n",
        "    def embed_query(self, text):\n",
        "        return super().embed_query(f\"query: {text}\")"
      ],
      "metadata": {
        "id": "HkmvGTaECfTY"
      },
      "execution_count": null,
      "outputs": []
    },
    {
      "cell_type": "markdown",
      "source": [
        "### 3. 載入 `faiss_db`"
      ],
      "metadata": {
        "id": "NkXNMQs5RbNG"
      }
    },
    {
      "cell_type": "code",
      "source": [
        "embedding_model = CustomE5Embedding(model_name=\"intfloat/multilingual-e5-small\")\n",
        "db = FAISS.load_local(\"faiss_db\", embedding_model, allow_dangerous_deserialization=True)\n",
        "retriever = db.as_retriever()"
      ],
      "metadata": {
        "id": "LkELACdWCtpo"
      },
      "execution_count": null,
      "outputs": []
    },
    {
      "cell_type": "markdown",
      "source": [
        "### 4. 設定好我們要的 LLM"
      ],
      "metadata": {
        "id": "GrHSAsjcRkXF"
      }
    },
    {
      "cell_type": "code",
      "source": [
        "import os\n",
        "from google.colab import userdata"
      ],
      "metadata": {
        "id": "qefbHOaUDUvR"
      },
      "execution_count": null,
      "outputs": []
    },
    {
      "cell_type": "code",
      "source": [
        "api_key = userdata.get('Groq')"
      ],
      "metadata": {
        "id": "Xefdy-lkRtAL"
      },
      "execution_count": null,
      "outputs": []
    },
    {
      "cell_type": "code",
      "source": [
        "os.environ[\"OPENAI_API_KEY\"] = api_key"
      ],
      "metadata": {
        "id": "K7UiOKuTDD5F"
      },
      "execution_count": null,
      "outputs": []
    },
    {
      "cell_type": "code",
      "source": [
        "model = \"llama3-70b-8192\"\n",
        "base_url=\"https://api.groq.com/openai/v1\""
      ],
      "metadata": {
        "id": "sqWfH90JFFWV"
      },
      "execution_count": null,
      "outputs": []
    },
    {
      "cell_type": "code",
      "source": [
        "client = OpenAI(\n",
        "    base_url=base_url # 使用 OpenAI 本身不需要這段\n",
        ")"
      ],
      "metadata": {
        "id": "JnqlH0W9P2-Q"
      },
      "execution_count": null,
      "outputs": []
    },
    {
      "cell_type": "markdown",
      "source": [
        "### 5. `prompt` 設計"
      ],
      "metadata": {
        "id": "K0egxeawSR41"
      }
    },
    {
      "cell_type": "code",
      "source": [
        "system_prompt = \"你是一個專業的「台灣節日小助手」，熟悉台灣的漢人節慶與原住民族歲時祭儀。所有回答必須使用繁體中文，語氣親切、簡潔，結合節日的習俗、食物、活動建議，展現台灣文化魅力。若問題超出知識範圍，誠實表示並提供相關建議。請勿使用英文或其他語言回答。\"\n",
        "\n",
        "prompt_template = \"\"\"\n",
        "根據下列資料回答問題：\n",
        "{retrieved_chunks}\n",
        "\n",
        "使用者的問題是：{question}\n",
        "\n",
        "請以繁體中文回答，確保語氣親切、內容簡潔，並結合節日習俗、食物或活動建議。若資料不足以回答問題，請誠實表示並建議相關資源或行動，例如查詢文化部網站。請勿使用英文或其他語言。\n",
        "\"\"\""
      ],
      "metadata": {
        "id": "ZaUnqDpfFop-"
      },
      "execution_count": null,
      "outputs": []
    },
    {
      "cell_type": "markdown",
      "source": [
        "### 6. 使用 RAG 來回應\n",
        "\n",
        "搜尋與使用者問題相關的資訊，根據我們的 prompt 樣版去讓 LLM 回應。"
      ],
      "metadata": {
        "id": "qw8azlVESghL"
      }
    },
    {
      "cell_type": "code",
      "source": [
        "chat_history = []\n",
        "\n",
        "def chat_with_rag(user_input):\n",
        "    global chat_history\n",
        "    # 取回相關資料\n",
        "    docs = retriever.get_relevant_documents(user_input)\n",
        "    print(docs)\n",
        "    retrieved_chunks = \"\\n\\n\".join([doc.page_content for doc in docs])\n",
        "\n",
        "    # 將自定 prompt 套入格式\n",
        "    final_prompt = prompt_template.format(retrieved_chunks=retrieved_chunks, question=user_input)\n",
        "\n",
        "    # 呼叫 OpenAI API\n",
        "    response = client.chat.completions.create(\n",
        "    model=model,\n",
        "    messages=[\n",
        "        {\"role\": \"system\", \"content\": system_prompt},\n",
        "        {\"role\": \"user\", \"content\": final_prompt},\n",
        "    ],\n",
        "    temperature=0.7,  # 控制生成隨機性\n",
        "    )\n",
        "    answer = response.choices[0].message.content\n",
        "\n",
        "    chat_history.append((user_input, answer))\n",
        "    return answer"
      ],
      "metadata": {
        "id": "pWfDUb3mD-6X"
      },
      "execution_count": null,
      "outputs": []
    },
    {
      "cell_type": "markdown",
      "source": [
        "### 7. 用 Gradio 打造 Web App"
      ],
      "metadata": {
        "id": "5m7E7XmgTJUr"
      }
    },
    {
      "cell_type": "code",
      "source": [
        "with gr.Blocks() as demo:\n",
        "    gr.Markdown(\"##台灣節日小助手\")\n",
        "    chatbot = gr.Chatbot()\n",
        "    msg = gr.Textbox(placeholder=\"問我關於台灣節日的問題吧！例如：給我10個台灣節日的簡介\")\n",
        "\n",
        "    def respond(message, chat_history_local):\n",
        "        response = chat_with_rag(message)\n",
        "        chat_history_local.append((message, response))\n",
        "        return \"\", chat_history_local\n",
        "\n",
        "    msg.submit(respond, [msg, chatbot], [msg, chatbot])\n",
        "\n",
        "demo.launch(debug=True)"
      ],
      "metadata": {
        "colab": {
          "base_uri": "https://localhost:8080/",
          "height": 819
        },
        "id": "YI5swv4AFa_U",
        "outputId": "529a6f8f-a902-4fbe-864f-e33d4bc315e5"
      },
      "execution_count": null,
      "outputs": [
        {
          "output_type": "stream",
          "name": "stderr",
          "text": [
            "<ipython-input-17-d364e8f7e92a>:3: UserWarning: You have not specified a value for the `type` parameter. Defaulting to the 'tuples' format for chatbot messages, but this is deprecated and will be removed in a future version of Gradio. Please set type='messages' instead, which uses openai-style dictionaries with 'role' and 'content' keys.\n",
            "  chatbot = gr.Chatbot()\n"
          ]
        },
        {
          "output_type": "stream",
          "name": "stdout",
          "text": [
            "It looks like you are running Gradio on a hosted a Jupyter notebook. For the Gradio app to work, sharing must be enabled. Automatically setting `share=True` (you can turn this off by setting `share=False` in `launch()` explicitly).\n",
            "\n",
            "Colab notebook detected. This cell will run indefinitely so that you can see errors and logs. To turn off, set debug=False in launch().\n",
            "* Running on public URL: https://a26be95e9181160c4d.gradio.live\n",
            "\n",
            "This share link expires in 1 week. For free permanent hosting and GPU upgrades, run `gradio deploy` from the terminal in the working directory to deploy to Hugging Face Spaces (https://huggingface.co/spaces)\n"
          ]
        },
        {
          "output_type": "display_data",
          "data": {
            "text/plain": [
              "<IPython.core.display.HTML object>"
            ],
            "text/html": [
              "<div><iframe src=\"https://a26be95e9181160c4d.gradio.live\" width=\"100%\" height=\"500\" allow=\"autoplay; camera; microphone; clipboard-read; clipboard-write;\" frameborder=\"0\" allowfullscreen></iframe></div>"
            ]
          },
          "metadata": {}
        },
        {
          "output_type": "stream",
          "name": "stderr",
          "text": [
            "<ipython-input-16-64d4ca91b2fb>:6: LangChainDeprecationWarning: The method `BaseRetriever.get_relevant_documents` was deprecated in langchain-core 0.1.46 and will be removed in 1.0. Use :meth:`~invoke` instead.\n",
            "  docs = retriever.get_relevant_documents(user_input)\n"
          ]
        },
        {
          "output_type": "stream",
          "name": "stdout",
          "text": [
            "[Document(id='15847955-205d-47ee-9c10-d6b05c1194e4', metadata={'source': 'uploaded_docs/節日.txt'}, page_content='童謠中的春節就是拜年、玩樂，過一個歡樂新年，體現早期農業社會裡從容、樸素的生活情調。當前的過年習俗隨著景氣好轉，是一個創新〈過年謠〉的好年代。\\n\\n天公生\\n\\n新年謠有「初九天公生」，為玉皇上帝的生日，古稱「祝天誕」而俗稱「天公生」。天公為古書中的「天帝」，本為帝王所專祀的祭天之禮；後來道教神統譜以三清為宇宙創始運化之象，統領萬神的昊天上帝，就被尊稱為「玉皇上帝」、「玄穹高上帝」。在道壇上有玉皇位，玉皇上帝作帝王像，戴九旒冕冠，著黃色冕服，法像莊嚴而雙手執圭，與萬星之主的紫微大帝，同為至尊的天神。\\n\\n民間奉祀則有天公壇，都在宮廟的至高處；而廟門外向天處，則有天公爐，向外拜天公後就插於爐內。民家也拜天公，都是桌案朝外或向天，其中閩南族群多在正廳前樑懸掛「天公爐」，客家族群則多奉祀於內埕龍邊牆上。\\n\\n天公生時值正月初九，時辰則是子時。九為陽數之極，而子時則是十二時辰之始。一陽復始的時刻，在廟埕或家中中庭的向天處，鄭重的擺香案，由家長率同一家大小在案前上香祭拜，祈求天公庇佑新一年家運亨通。這種「春祈」的信仰習俗由來已久，各地皆然，是到天公廟祈願的佳日。\\n\\n元宵節'), Document(id='1611442a-c5c1-4d72-b74d-e250a61228d2', metadata={'source': 'uploaded_docs/節日.txt'}, page_content='臺灣的地理位置與氣候\\n\\n南臺灣恆春中元普渡的「搶孤」活動。\\n南臺灣恆春中元普渡的「搶孤」活動。（圖／文化部提供）\\n\\n臺灣位在東亞的大海上，處於亞熱帶氣候中，終年溫熱，除冬季高山地區外，不見霜雪。海島上林木蒼鬱，河流蜿蜒，16世紀的大航海時代，葡萄牙人航海經過，就稱為「福爾摩沙」（Ilha Formosa），意指一個美麗的島嶼。早期先有不同的原住民族散居島上，各有其生活習俗；而位處於中國東南沿海的福建、廣東，山多田少，謀生不易，居民開始渡海而來移居島上。17世紀歐洲人在東方展開海上大貿易，西班牙人、荷蘭人都想擁有島上獨占其資源，經歷一段時間的侵奪後，鄭成功取得了統治權，鄭氏時期之後又經清領時代，大量漢人移入，不同族群分類而居，帶來漢人原鄉的社會風俗，早期臺灣方志都在記載風俗時說：「泉之俗行於泉，漳之俗行於漳。」（《諸羅縣志》）後來客之俗自是也行於客，說明了臺灣漢人社會風俗「脫胎」自原鄉節俗的淵源。'), Document(id='55529f6a-c0b5-482f-bb19-cccbc85e11e0', metadata={'source': 'uploaded_docs/節日.txt'}, page_content='「臺灣節慶」是華人世界裡保存良好的節慶傳統，經歷三、四百年來的發展、變化，在創造了經濟成就之外，仍然持續保存具有民俗風格的節慶，被巧妙地融入現代生活中。由於民間社會一直傳續「以社祀會聚社民」的傳統，每逢佳節必有社慶，成為營造社區共同體生活的核心。而每一個家庭、家族也在易於疏離的現代社會，借由節日凝聚家人、族人，共同祭拜祖先、神明，使家人在共同的記憶中團聚一體。斯土斯民而有斯節斯俗，臺灣人既傳續了農民的打拚精神，也保存了傳統的節日作息，在祭祀活動之中發揚了人文的精義。這個豐饒而多樣的節俗，展現了人與宇宙的和諧關係，提醒了人與自然的生態須共存共榮。每年固定的過節就定期的提醒，臺灣將在每一世代的生存中，常保是個「美麗的地方」，一個永遠的福爾摩沙。\\n\\n原住民族歲時祭儀\\n\\n矮靈祭是苗栗塞夏族重要祭儀。\\n矮靈祭是苗栗賽夏族重要祭儀。(圖／原住民族委員會提供)\\n\\n原住民族十六族歲時祭儀大部分維持傳統特性，每年公告祭儀與舉辦期間。歲時祭儀的核心概念就是「祈求收穫與祖靈庇佑」，因此慶豐年與拜祖靈成為全族動員與相聚的重要時刻，更有助於凝聚民族認同與團結。以下為臺灣原住民族歲時祭儀：'), Document(id='f5838434-812a-405f-a8f6-fdbb625ebfad', metadata={'source': 'uploaded_docs/節日.txt'}, page_content='Kavalan 噶瑪蘭族\\n\\nQataban 豐年祭\\n\\n主要感謝神靈與祖靈保佑一年來農作豐收，由頭目每年7-8月間召開部落會議決定舉辦日期、地點與階級分工事宜。祭典當天，族人會依照階級、男女、身分等各自穿著傳統服裝，只有男性長老與祭師穿全黑的服飾；當頭目宣佈qataban節慶開始後，長老坐在中央，其他族人圍著圓圈，由一人帶頭領唱、族人回應唱歌並牽手跳舞直至夜晚。祭儀過程中長輩會對各年齡階級評分，具年齡階級傳承、團結及訓練的意義。\\n\\nTruku 太魯閣族\\n\\nMgay Bari 感恩祭\\n\\n每年在農作收穫後（約10月份），族人會舉辦感恩祭，感謝祖靈的庇佑及確保子孫安身立命，也祈求農耕持續生產豐收。祭儀由祭司與部落領袖宣布舉行，祭典前部落獵人會組團進入獵區狩獵，家戶則開始椿米、釀酒、搗製小米糕，供獻祭祖靈；祭典開始先灑酒呼喚祖靈之名，接著唸誦祭詞感謝祖靈，祈願明年持續守護部落；祭司唸誦後，族人齊聚共飲、舞蹈歡唱，分享祖靈庇蔭的福運，並將此視為今年農作完成與隔年農耕行事的開始，類似「新年」。\\n\\nSakizaya 撒奇萊雅族\\n\\nPalamal 火神祭')]\n",
            "[Document(id='d14772d7-487d-4fc1-8e5f-2fb2ca08a52d', metadata={'source': 'uploaded_docs/節日.txt'}, page_content='過節的通過儀式須要選擇有利的時間，所以單月單日屬陽，月日相重就可增強力量，這是最常見的時間安排，如一月一日為新正；三月三日為三月節，古為修禊日，迄今漳州仍選在此日「上墳」；五月五日為端午，龍舟競渡，祓除不祥，是過渡到夏日的節日，所以習俗上都有剋制五毒的涵意。七月七日的「七夕」，被視為「七娘媽生」，為民俗的成年禮，從被護佑的小孩「出婆姊間」後，長大成人，為典型的通過儀式。而九月九日的九，諧音為「久」，重九重陽，故為老人節，祈祝長者長壽。由於月日俱屬單數、屬陽，這種月日相重而陽氣特盛，自是可以渡過節日的關口；而民間則是較少用雙月雙日，只有六月六日的「半年節」。\\n\\n張弛有致的生活節奏'), Document(id='71c9e657-a637-4232-a1fc-7708e9a681ca', metadata={'source': 'uploaded_docs/節日.txt'}, page_content='重陽節\\n\\n重陽節因農曆九月九日，月日均值陽數，也稱重九。在節氣上值「寒露」、「霜降」，本地卻是秋高氣爽的時節，適宜登高或到野外放風箏。在節俗來源上通說是桓景家人戴茱萸登高，而得免一家受禍（故事載於《續齊諧記》）。而從節氣活動理解，中國北方是茱萸正盛的時節，菊花也盛開燦爛，這些植物都具有草藥性能：茱萸氣味辛烈，配戴在身上或曬乾盛於香囊，正可做為服食、服配之用。而菊花則甘菊、白菊等，可作藥用植物；泛酒則是菊花酒，秋日飲菊花酒，被視為風雅之事。九又諧音「久」，九九及久而又久，為長久長壽之意，也被被當做「敬老節」；同時也是宗祠祭祀的節日，各地祠堂或民間在此日祭祀先人。清領時期的地方書院，也隨俗供奉魁星爺，即是星辰之神，以祈求魁星點中而得功名，而重陽節也是祭祀魁星爺的重要節日。\\n\\n燒王船\\n\\n臺灣的各式醮典儀式，都以還願酬神、禳災植福為目的，其中以屏東東港東隆宮三年一科「平安祭典」的燒王船最為人熟知，時間在丑、辰、未、戌年的農曆八月至十月間，經由擲筊方式訂出確切日期。'), Document(id='5cd3d19f-0eb7-46e4-bcfe-ee4782447464', metadata={'source': 'uploaded_docs/節日.txt'}, page_content='張弛有致的生活節奏\\n\\n在農業社會裡，一個「以農立國」的民族自是需要配合節候而從事生產，所以勤勞打拚是農人的美德。在七日一週的新制之前，除了官員、軍人服役等有固定的休假日外，一般農民大多按照自然的節奏而使用節氣，在節日中集體享受節慶之樂。帝制時代儒家官僚形成一套「張弛」的社會生活方式，生產的工作倫理就是「緊張」如弓弦的繃緊，穿著日常工作的「常服」，在日常時間內有效地投入生產勞動之中。然後在經歷一段時間工作後，趁著農田事務的餘暇就安排有節日作為時間間隔，可以穿著禮服依節日而祭祀。這種非日常性的日子就如同歐洲人的節慶，須要經由儀式性的轉變，由一境、一家之人集體參與，成為地方或家庭的大事。在節慶活動中，不管是祭祀與否都有節俗食物共享，一家一境也會有節飾襯托過節的氣氛，大家也須遵守一定的節俗禁忌。節慶之樂的理想就是全體投入慶祝活動中，享受佳節內「共樂樂」的欣喜氣氛。 以下分別介紹臺灣社會一年中最主要的幾個節慶。\\n\\n春節'), Document(id='15847955-205d-47ee-9c10-d6b05c1194e4', metadata={'source': 'uploaded_docs/節日.txt'}, page_content='童謠中的春節就是拜年、玩樂，過一個歡樂新年，體現早期農業社會裡從容、樸素的生活情調。當前的過年習俗隨著景氣好轉，是一個創新〈過年謠〉的好年代。\\n\\n天公生\\n\\n新年謠有「初九天公生」，為玉皇上帝的生日，古稱「祝天誕」而俗稱「天公生」。天公為古書中的「天帝」，本為帝王所專祀的祭天之禮；後來道教神統譜以三清為宇宙創始運化之象，統領萬神的昊天上帝，就被尊稱為「玉皇上帝」、「玄穹高上帝」。在道壇上有玉皇位，玉皇上帝作帝王像，戴九旒冕冠，著黃色冕服，法像莊嚴而雙手執圭，與萬星之主的紫微大帝，同為至尊的天神。\\n\\n民間奉祀則有天公壇，都在宮廟的至高處；而廟門外向天處，則有天公爐，向外拜天公後就插於爐內。民家也拜天公，都是桌案朝外或向天，其中閩南族群多在正廳前樑懸掛「天公爐」，客家族群則多奉祀於內埕龍邊牆上。\\n\\n天公生時值正月初九，時辰則是子時。九為陽數之極，而子時則是十二時辰之始。一陽復始的時刻，在廟埕或家中中庭的向天處，鄭重的擺香案，由家長率同一家大小在案前上香祭拜，祈求天公庇佑新一年家運亨通。這種「春祈」的信仰習俗由來已久，各地皆然，是到天公廟祈願的佳日。\\n\\n元宵節')]\n",
            "[Document(id='d14772d7-487d-4fc1-8e5f-2fb2ca08a52d', metadata={'source': 'uploaded_docs/節日.txt'}, page_content='過節的通過儀式須要選擇有利的時間，所以單月單日屬陽，月日相重就可增強力量，這是最常見的時間安排，如一月一日為新正；三月三日為三月節，古為修禊日，迄今漳州仍選在此日「上墳」；五月五日為端午，龍舟競渡，祓除不祥，是過渡到夏日的節日，所以習俗上都有剋制五毒的涵意。七月七日的「七夕」，被視為「七娘媽生」，為民俗的成年禮，從被護佑的小孩「出婆姊間」後，長大成人，為典型的通過儀式。而九月九日的九，諧音為「久」，重九重陽，故為老人節，祈祝長者長壽。由於月日俱屬單數、屬陽，這種月日相重而陽氣特盛，自是可以渡過節日的關口；而民間則是較少用雙月雙日，只有六月六日的「半年節」。\\n\\n張弛有致的生活節奏'), Document(id='464222b4-7ad4-41df-8745-85a9285acbed', metadata={'source': 'uploaded_docs/節日.txt'}, page_content='搶孤\\n\\n「搶孤」是臺灣中元普渡時相當特殊的儀式活動，民眾在中元節祭祀十方孤魂野鬼，以人模仿餓鬼的行為，搶攀孤棚，取食孤棧上的祭品，活動隱含孤魂野鬼前來飽食免受飢餓之苦的喻意，具有人飢己飢、悲天憫人的精神，也有人鬼和諧的意義。\\n\\n中秋節\\n\\n農曆八月，在「秋分」與「霜降」中有「中秋」，為天文學上的秋分點，太陽正好照射到地球赤道上，晝夜各半，與「春分」相對。八月十五日，俗稱「八月半」；又逢十五月圓，又稱「月夕」，也有認為七、八、九三秋恰半，故為「中秋」。由於秋涼時節，又是月圓夜，取象圓月，而視為團圓節。民間何時拜月已不可考，但是有祭拜太陽星君、太陰娘娘之日月的祭祀。在中秋之夕，臺灣早期都會拜月娘（月姑），也印有月娘神像，其他地方則稱為月光神禡，所祭拜的則是月餅、柚子，月餅要切開分食，故稱為團圓餅。根據《臺灣府志》記載，中秋節要祭祀當境土神，秋收之後要拜土地公，表達春祈秋報之意。\\n\\n重陽節'), Document(id='cfb3908b-61b6-4550-b502-5e9c926ce2ab', metadata={'source': 'uploaded_docs/節日.txt'}, page_content='臺灣過節就是過關\\n\\n傳統節慶的「節」，都選在節氣轉換的時間或是一個月的特殊時間，根據陰與陽的互勝互剋及互補觀念，使人能順利地通過時間的關口。所以「過節」就是「過關」，在通過儀式中大多配合有祭祀的儀式、習俗禁忌，使人能從這個節序過渡到另一個節序。在二十四節氣裡有「清明」、「立冬」、「冬至」等，立冬是冬季的開始；冬至則是冬季最長的一夜，都是使用節氣或中氣的節日，標誌太陽運行到某一個節氣點，天候的寒暖發生變化。在太陰曆的應用上，則特別注意月的圓滿，「月圓花好」被視為吉祥之兆。所以家庭適合團圓，而宗教信仰上也配合有祈福求祥的祈祝儀式，如道教的「三元日」，妥善運用了正月十五，為春節期間一家人的共慶「元宵」。此後就各奔西東地到處工作，因此祈求天官賜福，稱為「上元」，家中掛燈，道觀、寺廟也會點燈祈福。「中元」則是在七月十五，為地官赦罪之日，道教稱為「慶讚中元」，佛教也視為「盂蘭盆節」，都與普渡孤幽有關。「下元」為十月十五日，為水官解除災厄之日，避免把不順與災厄帶到明年，民間俗稱「謝平安日」。'), Document(id='387a341a-d79e-4b89-9ed3-0cd8aaaaabea', metadata={'source': 'uploaded_docs/節日.txt'}, page_content='清明 \\n\\n清明為二十四節氣中的第5個節氣，在春分後十五日，約在陽曆四月四日或五日，為上山祭祖掃墓的節日。「清明」節氣是兼含祭祖、寒食、掃墓等崇天祭祖社會意涵的節日，所以先後來到臺灣的移民們，多會依循原鄉的歲時祭儀活動，例如漳州籍移民會選在三月節（三月三日）掃墓祭祖，泉州籍移民會在清明日上山祭掃，而客家移民的習俗，則選擇先祖安葬後第1個五月節，須提前1-2天上墳祭拜。\\n\\n端午節 \\n\\n端午為五月五日的重五日，又稱「端陽」，午與陽都取陽氣漸盛，可以過關辟邪。在節氣上為夏日將至的節候，江河之水均須清除雜物，以免疫癘流行；居家需知則同樣須掃除屋宅角落，灑上雄黃水，以辟除五毒諸物；而家人則須浴以蘭湯，潔沐身心，成為清潔內外辟除不潔的節日。臺灣各地因應端午節有不同的慶祝活動，有舉辦划龍舟競賽，吃粽子的習俗，臺中市南屯區辦理穿木屐競走活動等。\\n\\n七夕')]\n",
            "[Document(id='cfb3908b-61b6-4550-b502-5e9c926ce2ab', metadata={'source': 'uploaded_docs/節日.txt'}, page_content='臺灣過節就是過關\\n\\n傳統節慶的「節」，都選在節氣轉換的時間或是一個月的特殊時間，根據陰與陽的互勝互剋及互補觀念，使人能順利地通過時間的關口。所以「過節」就是「過關」，在通過儀式中大多配合有祭祀的儀式、習俗禁忌，使人能從這個節序過渡到另一個節序。在二十四節氣裡有「清明」、「立冬」、「冬至」等，立冬是冬季的開始；冬至則是冬季最長的一夜，都是使用節氣或中氣的節日，標誌太陽運行到某一個節氣點，天候的寒暖發生變化。在太陰曆的應用上，則特別注意月的圓滿，「月圓花好」被視為吉祥之兆。所以家庭適合團圓，而宗教信仰上也配合有祈福求祥的祈祝儀式，如道教的「三元日」，妥善運用了正月十五，為春節期間一家人的共慶「元宵」。此後就各奔西東地到處工作，因此祈求天官賜福，稱為「上元」，家中掛燈，道觀、寺廟也會點燈祈福。「中元」則是在七月十五，為地官赦罪之日，道教稱為「慶讚中元」，佛教也視為「盂蘭盆節」，都與普渡孤幽有關。「下元」為十月十五日，為水官解除災厄之日，避免把不順與災厄帶到明年，民間俗稱「謝平安日」。'), Document(id='a6461748-ef89-4cba-bf39-c61a309080aa', metadata={'source': 'uploaded_docs/節日.txt'}, page_content='七夕\\n\\n七月立秋、處暑兩個節氣中，有七夕、中元兩節日，七月七日為七夕、乞巧節。臺灣民間稱為「七娘媽生」，為了報謝七娘媽護佑孩子長大成人，也是「作十六歲」的節日，表示「出鳥母（婆姊）間」，為民俗的成年節日。而對於年輕女孩，則是乞巧、鬥巧，並兼求美貌的佳節；以往讀書人所祀奉的魁星，在七夕這天也要祭拜。\\n\\n中元節\\n\\n二十四節氣中「處暑」，為農作物收成後，趁暑熱稍事休息，祭謝土地、祖先，故農諺云：「處暑斷犁耙」。在節俗中祭厲的習俗，官方就在七月有厲壇之祭；而民間則複合了道、佛二教的宗教儀式，道教從早期的三官信仰：天、地、水三官（即民間所稱「三界公」），三元齋而確定三元日，中元齋即在中元日，故稱為「慶讚中元」，臺灣則發展出中元普渡法會，將佛教「普渡眾生」的法旨。透過道士科儀中的普度科儀要進行一連串的法事，從男堂女室的獻貢、巡筵、登壇說法到普渡化食，有一連串的科儀形式，道士們一面誦經懺，一面依經懺的段落丟擲供品，各地的普渡祭儀成為臺灣社會面對移墾過程中流血衝突的「和解」之道，透過施孤祈福來包容、慰問貧困孤苦。\\n\\n搶孤'), Document(id='d14772d7-487d-4fc1-8e5f-2fb2ca08a52d', metadata={'source': 'uploaded_docs/節日.txt'}, page_content='過節的通過儀式須要選擇有利的時間，所以單月單日屬陽，月日相重就可增強力量，這是最常見的時間安排，如一月一日為新正；三月三日為三月節，古為修禊日，迄今漳州仍選在此日「上墳」；五月五日為端午，龍舟競渡，祓除不祥，是過渡到夏日的節日，所以習俗上都有剋制五毒的涵意。七月七日的「七夕」，被視為「七娘媽生」，為民俗的成年禮，從被護佑的小孩「出婆姊間」後，長大成人，為典型的通過儀式。而九月九日的九，諧音為「久」，重九重陽，故為老人節，祈祝長者長壽。由於月日俱屬單數、屬陽，這種月日相重而陽氣特盛，自是可以渡過節日的關口；而民間則是較少用雙月雙日，只有六月六日的「半年節」。\\n\\n張弛有致的生活節奏'), Document(id='c11f29ce-8fae-41c1-a5a1-bcb0da1770be', metadata={'source': 'uploaded_docs/節日.txt'}, page_content='尾牙 \\n\\n二十四節氣表現寒冷的是「小寒」、「大寒」，也就有年節將至的氣氛，就像歐美過聖誕節那樣，在雪花繽紛中傳出悅耳的鐘聲、鈴聲，才透出歡樂佳節的情調。農業社會到了年底十二月，就有較多時間準備祭典，一年終了而有好的收穫，理應感謝一切該感謝的天地神明，所以年終連串的禮俗多有感恩意義，包括各式各樣的祭祀飲食與民俗活動。祭祀的對象與日常生活有關：諸如土地公、灶神之類，尾牙是十二月的祭典中，一年牙祭的最後一次，所拜謝的土地公、地基祖，都與居住有關。此類祭祀習俗至今仍是基於報恩而表現的傳統美德。\\n\\n除夕')]\n",
            "Keyboard interruption in main thread... closing server.\n",
            "Killing tunnel 127.0.0.1:7860 <> https://a26be95e9181160c4d.gradio.live\n"
          ]
        },
        {
          "output_type": "execute_result",
          "data": {
            "text/plain": []
          },
          "metadata": {},
          "execution_count": 17
        }
      ]
    }
  ]
}